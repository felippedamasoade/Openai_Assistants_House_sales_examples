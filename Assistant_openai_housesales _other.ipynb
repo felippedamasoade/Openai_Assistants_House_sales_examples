{
 "cells": [
  {
   "cell_type": "code",
   "execution_count": 12,
   "metadata": {},
   "outputs": [
    {
     "data": {
      "text/html": [
       "<div>\n",
       "<style scoped>\n",
       "    .dataframe tbody tr th:only-of-type {\n",
       "        vertical-align: middle;\n",
       "    }\n",
       "\n",
       "    .dataframe tbody tr th {\n",
       "        vertical-align: top;\n",
       "    }\n",
       "\n",
       "    .dataframe thead th {\n",
       "        text-align: right;\n",
       "    }\n",
       "</style>\n",
       "<table border=\"1\" class=\"dataframe\">\n",
       "  <thead>\n",
       "    <tr style=\"text-align: right;\">\n",
       "      <th></th>\n",
       "      <th>Invoice ID</th>\n",
       "      <th>Branch</th>\n",
       "      <th>City</th>\n",
       "      <th>Customer type</th>\n",
       "      <th>Gender</th>\n",
       "      <th>Product line</th>\n",
       "      <th>Unit price</th>\n",
       "      <th>Quantity</th>\n",
       "      <th>Tax 5%</th>\n",
       "      <th>Total</th>\n",
       "      <th>Date</th>\n",
       "      <th>Time</th>\n",
       "      <th>Payment</th>\n",
       "      <th>cogs</th>\n",
       "      <th>gross margin percentage</th>\n",
       "      <th>gross income</th>\n",
       "      <th>Rating</th>\n",
       "    </tr>\n",
       "  </thead>\n",
       "  <tbody>\n",
       "    <tr>\n",
       "      <th>0</th>\n",
       "      <td>750-67-8428</td>\n",
       "      <td>A</td>\n",
       "      <td>Yangon</td>\n",
       "      <td>Member</td>\n",
       "      <td>Female</td>\n",
       "      <td>Health and beauty</td>\n",
       "      <td>74.69</td>\n",
       "      <td>7</td>\n",
       "      <td>26.1415</td>\n",
       "      <td>548.9715</td>\n",
       "      <td>1/5/2019</td>\n",
       "      <td>13:08</td>\n",
       "      <td>Ewallet</td>\n",
       "      <td>522.83</td>\n",
       "      <td>4.761905</td>\n",
       "      <td>26.1415</td>\n",
       "      <td>9.1</td>\n",
       "    </tr>\n",
       "    <tr>\n",
       "      <th>1</th>\n",
       "      <td>226-31-3081</td>\n",
       "      <td>C</td>\n",
       "      <td>Naypyitaw</td>\n",
       "      <td>Normal</td>\n",
       "      <td>Female</td>\n",
       "      <td>Electronic accessories</td>\n",
       "      <td>15.28</td>\n",
       "      <td>5</td>\n",
       "      <td>3.8200</td>\n",
       "      <td>80.2200</td>\n",
       "      <td>3/8/2019</td>\n",
       "      <td>10:29</td>\n",
       "      <td>Cash</td>\n",
       "      <td>76.40</td>\n",
       "      <td>4.761905</td>\n",
       "      <td>3.8200</td>\n",
       "      <td>9.6</td>\n",
       "    </tr>\n",
       "    <tr>\n",
       "      <th>2</th>\n",
       "      <td>631-41-3108</td>\n",
       "      <td>A</td>\n",
       "      <td>Yangon</td>\n",
       "      <td>Normal</td>\n",
       "      <td>Male</td>\n",
       "      <td>Home and lifestyle</td>\n",
       "      <td>46.33</td>\n",
       "      <td>7</td>\n",
       "      <td>16.2155</td>\n",
       "      <td>340.5255</td>\n",
       "      <td>3/3/2019</td>\n",
       "      <td>13:23</td>\n",
       "      <td>Credit card</td>\n",
       "      <td>324.31</td>\n",
       "      <td>4.761905</td>\n",
       "      <td>16.2155</td>\n",
       "      <td>7.4</td>\n",
       "    </tr>\n",
       "    <tr>\n",
       "      <th>3</th>\n",
       "      <td>123-19-1176</td>\n",
       "      <td>A</td>\n",
       "      <td>Yangon</td>\n",
       "      <td>Member</td>\n",
       "      <td>Male</td>\n",
       "      <td>Health and beauty</td>\n",
       "      <td>58.22</td>\n",
       "      <td>8</td>\n",
       "      <td>23.2880</td>\n",
       "      <td>489.0480</td>\n",
       "      <td>1/27/2019</td>\n",
       "      <td>20:33</td>\n",
       "      <td>Ewallet</td>\n",
       "      <td>465.76</td>\n",
       "      <td>4.761905</td>\n",
       "      <td>23.2880</td>\n",
       "      <td>8.4</td>\n",
       "    </tr>\n",
       "    <tr>\n",
       "      <th>4</th>\n",
       "      <td>373-73-7910</td>\n",
       "      <td>A</td>\n",
       "      <td>Yangon</td>\n",
       "      <td>Normal</td>\n",
       "      <td>Male</td>\n",
       "      <td>Sports and travel</td>\n",
       "      <td>86.31</td>\n",
       "      <td>7</td>\n",
       "      <td>30.2085</td>\n",
       "      <td>634.3785</td>\n",
       "      <td>2/8/2019</td>\n",
       "      <td>10:37</td>\n",
       "      <td>Ewallet</td>\n",
       "      <td>604.17</td>\n",
       "      <td>4.761905</td>\n",
       "      <td>30.2085</td>\n",
       "      <td>5.3</td>\n",
       "    </tr>\n",
       "  </tbody>\n",
       "</table>\n",
       "</div>"
      ],
      "text/plain": [
       "    Invoice ID Branch       City Customer type  Gender  \\\n",
       "0  750-67-8428      A     Yangon        Member  Female   \n",
       "1  226-31-3081      C  Naypyitaw        Normal  Female   \n",
       "2  631-41-3108      A     Yangon        Normal    Male   \n",
       "3  123-19-1176      A     Yangon        Member    Male   \n",
       "4  373-73-7910      A     Yangon        Normal    Male   \n",
       "\n",
       "             Product line  Unit price  Quantity   Tax 5%     Total       Date  \\\n",
       "0       Health and beauty       74.69         7  26.1415  548.9715   1/5/2019   \n",
       "1  Electronic accessories       15.28         5   3.8200   80.2200   3/8/2019   \n",
       "2      Home and lifestyle       46.33         7  16.2155  340.5255   3/3/2019   \n",
       "3       Health and beauty       58.22         8  23.2880  489.0480  1/27/2019   \n",
       "4       Sports and travel       86.31         7  30.2085  634.3785   2/8/2019   \n",
       "\n",
       "    Time      Payment    cogs  gross margin percentage  gross income  Rating  \n",
       "0  13:08      Ewallet  522.83                 4.761905       26.1415     9.1  \n",
       "1  10:29         Cash   76.40                 4.761905        3.8200     9.6  \n",
       "2  13:23  Credit card  324.31                 4.761905       16.2155     7.4  \n",
       "3  20:33      Ewallet  465.76                 4.761905       23.2880     8.4  \n",
       "4  10:37      Ewallet  604.17                 4.761905       30.2085     5.3  "
      ]
     },
     "execution_count": 12,
     "metadata": {},
     "output_type": "execute_result"
    }
   ],
   "source": [
    "import pandas as pd\n",
    "import openai\n",
    "import dotenv\n",
    "from dotenv import load_dotenv\n",
    "load_dotenv()\n",
    "\n",
    "\n",
    "dataset = pd.read_csv('supermarket_sales.csv')\n",
    "dataset.head(5)"
   ]
  },
  {
   "cell_type": "code",
   "execution_count": 13,
   "metadata": {},
   "outputs": [
    {
     "data": {
      "text/plain": [
       "6.9727"
      ]
     },
     "execution_count": 13,
     "metadata": {},
     "output_type": "execute_result"
    }
   ],
   "source": [
    "dataset['Rating'].mean()"
   ]
  },
  {
   "cell_type": "markdown",
   "metadata": {},
   "source": [
    "## Criand Assistant ## "
   ]
  },
  {
   "cell_type": "code",
   "execution_count": 14,
   "metadata": {},
   "outputs": [],
   "source": [
    "file = openai.files.create(\n",
    "    file=open('supermarket_sales.csv','rb'),\n",
    "    purpose='assistants'\n",
    ")"
   ]
  },
  {
   "cell_type": "code",
   "execution_count": 15,
   "metadata": {},
   "outputs": [],
   "source": [
    "assistant = openai.beta.assistants.create(\n",
    "    name='Analista de dados , Machine Learning e LLM ',\n",
    "    instructions='Fornecer e analiser dados e gerar codigos em python e analisar estatisticas voce vai usar os arquivos .csv \\\n",
    "    informados para fazer as devidas analises extraia o maximo de inforamções possiveis',\n",
    "    tools=[{'type':'code_interpreter'}],\n",
    "    tool_resources={'code_interpreter' : {'file_ids': [file.id]}},\n",
    "    model='gpt-4o'\n",
    ")"
   ]
  },
  {
   "cell_type": "code",
   "execution_count": 5,
   "metadata": {},
   "outputs": [],
   "source": [
    "thread = openai.beta.threads.create()"
   ]
  },
  {
   "cell_type": "code",
   "execution_count": 6,
   "metadata": {},
   "outputs": [],
   "source": [
    "texto_mensagem = 'Faça analise de dados da planilha e traga insights e dados relevantes para tomada de descisão '\n",
    "message = openai.beta.threads.messages.create(\n",
    "    thread_id=thread.id,\n",
    "    role = 'user',\n",
    "    content = texto_mensagem\n",
    ")"
   ]
  },
  {
   "cell_type": "code",
   "execution_count": 7,
   "metadata": {},
   "outputs": [],
   "source": [
    "## Rodando a mensagem gerada com thread ##\n",
    "\n",
    "run = openai.beta.threads.runs.create(\n",
    "    thread_id=thread.id,\n",
    "    assistant_id=assistant.id,\n",
    "    instructions='O nome e felippe ele e um usuario premium'\n",
    ")"
   ]
  },
  {
   "cell_type": "code",
   "execution_count": 8,
   "metadata": {},
   "outputs": [],
   "source": [
    "import time\n",
    "\n",
    "while run.status in ['queued', 'in_progress', 'cancelling']:\n",
    "    time.sleep(1)\n",
    "    run = openai.beta.threads.runs.retrieve(\n",
    "        thread_id=thread.id,\n",
    "        run_id=run.id\n",
    "    )"
   ]
  },
  {
   "cell_type": "code",
   "execution_count": 10,
   "metadata": {},
   "outputs": [
    {
     "data": {
      "text/plain": [
       "'failed'"
      ]
     },
     "execution_count": 10,
     "metadata": {},
     "output_type": "execute_result"
    }
   ],
   "source": [
    "run.status"
   ]
  },
  {
   "cell_type": "code",
   "execution_count": 18,
   "metadata": {},
   "outputs": [
    {
     "name": "stdout",
     "output_type": "stream",
     "text": [
      "SyncCursorPage[Message](data=[Message(id='msg_Bbk5ZncslmAJ7vUGa2Y8hPNa', assistant_id='asst_JNZP7rPUAzr0nF4ETreCQguG', attachments=[], completed_at=None, content=[TextContentBlock(text=Text(annotations=[], value='O rating médio das vendas no conjunto de dados é aproximadamente **6,97**.'), type='text')], created_at=1737476732, incomplete_at=None, incomplete_details=None, metadata={}, object='thread.message', role='assistant', run_id='run_vD0PqQ5jqmhVjQF5vyJDlE57', status=None, thread_id='thread_ZNovzezrvRd3TLDqje8ElwSe'), Message(id='msg_uulu4TaAOssTP1QjV6L6nnTa', assistant_id='asst_JNZP7rPUAzr0nF4ETreCQguG', attachments=[], completed_at=None, content=[TextContentBlock(text=Text(annotations=[], value='O arquivo contém informações sobre vendas, incluindo uma coluna chamada \"Rating\", que parece representar a classificação de cada venda. Podemos calcular a média dos ratings nesta coluna. Vamos proceder com o cálculo.'), type='text')], created_at=1737476729, incomplete_at=None, incomplete_details=None, metadata={}, object='thread.message', role='assistant', run_id='run_vD0PqQ5jqmhVjQF5vyJDlE57', status=None, thread_id='thread_ZNovzezrvRd3TLDqje8ElwSe'), Message(id='msg_TCKRngKnG1rcbchddhQvWbMe', assistant_id='asst_JNZP7rPUAzr0nF4ETreCQguG', attachments=[], completed_at=None, content=[TextContentBlock(text=Text(annotations=[], value='Para encontrar o rating médio das vendas no arquivo que você forneceu, precisamos primeiro inspecionar o conteúdo do arquivo para entender seu formato e estrutura. Depois disso, podemos calcular o rating médio. Vamos começar examinando o arquivo.'), type='text')], created_at=1737476723, incomplete_at=None, incomplete_details=None, metadata={}, object='thread.message', role='assistant', run_id='run_vD0PqQ5jqmhVjQF5vyJDlE57', status=None, thread_id='thread_ZNovzezrvRd3TLDqje8ElwSe'), Message(id='msg_XKNkIHmiMnLA6hKLtwmEg5Hb', assistant_id=None, attachments=[], completed_at=None, content=[TextContentBlock(text=Text(annotations=[], value='Qual o rating medio das vendas'), type='text')], created_at=1737476625, incomplete_at=None, incomplete_details=None, metadata={}, object='thread.message', role='user', run_id=None, status=None, thread_id='thread_ZNovzezrvRd3TLDqje8ElwSe')], object='list', first_id='msg_Bbk5ZncslmAJ7vUGa2Y8hPNa', last_id='msg_XKNkIHmiMnLA6hKLtwmEg5Hb', has_more=False)\n"
     ]
    }
   ],
   "source": [
    "if run.status == 'completed':\n",
    "    messagens = openai.beta.threads.messages.list(\n",
    "        thread_id=thread.id\n",
    "    )\n",
    "    print(messagens)\n",
    "\n",
    "else:\n",
    "    print('errro',run.status)"
   ]
  },
  {
   "cell_type": "code",
   "execution_count": 20,
   "metadata": {},
   "outputs": [
    {
     "name": "stdout",
     "output_type": "stream",
     "text": [
      "O rating médio das vendas no conjunto de dados é aproximadamente **6,97**.\n"
     ]
    }
   ],
   "source": [
    "print(messagens.data[0].content[0].text.value)"
   ]
  },
  {
   "cell_type": "markdown",
   "metadata": {},
   "source": [
    "## Analisando Passo a Passo ##"
   ]
  },
  {
   "cell_type": "code",
   "execution_count": 23,
   "metadata": {},
   "outputs": [],
   "source": [
    "run_steps = openai.beta.threads.runs.steps.list(\n",
    "  thread_id=thread.id,\n",
    "  run_id=run.id\n",
    ")"
   ]
  },
  {
   "cell_type": "code",
   "execution_count": 24,
   "metadata": {},
   "outputs": [
    {
     "name": "stdout",
     "output_type": "stream",
     "text": [
      "\n",
      "=== Step: message_creation\n",
      "\n",
      "=== Step: tool_calls\n",
      "-----\n",
      "# Vamos ler o conteúdo do arquivo para inspecionar o formato e a estrutura\n",
      "import pandas as pd\n",
      "\n",
      "file_path = '/mnt/data/file-LqBrKPNCZxqWysFK1SxmXN'\n",
      "data = pd.read_csv(file_path)\n",
      "\n",
      "# Mostrar as primeiras linhas do DataFrame para entender a estrutura\n",
      "data.head()\n",
      "-----\n",
      "Result\n",
      "\n",
      "=== Step: message_creation\n",
      "\n",
      "=== Step: tool_calls\n",
      "-----\n",
      "# Calcular o rating médio das vendas\n",
      "average_rating = data['Rating'].mean()\n",
      "average_rating\n",
      "-----\n",
      "Result\n",
      "\n",
      "=== Step: message_creation\n"
     ]
    }
   ],
   "source": [
    "for step in run_steps.data[::-1]:\n",
    "    print('\\n=== Step:', step.step_details.type)\n",
    "    if step.step_details.type == 'tool_calls':\n",
    "        for tool_call in step.step_details.tool_calls:\n",
    "            print('-----')\n",
    "            print(tool_call.code_interpreter.input)\n",
    "            print('-----')\n",
    "            print('Result')"
   ]
  },
  {
   "cell_type": "markdown",
   "metadata": {},
   "source": [
    "## Potando Grafico ##\n"
   ]
  },
  {
   "cell_type": "code",
   "execution_count": 27,
   "metadata": {},
   "outputs": [],
   "source": [
    "assitant = openai.beta.assistants.create(\n",
    "    name=\"Analista Fianceiro\",\n",
    "    instructions='Você é um analista financeiro de um supermercado. Você deve utilizar os dados \\\n",
    "        .csv informados relativos as vendas do supermercado para realizar as suas análises.',\n",
    "    tools=[{'type': 'code_interpreter'}],\n",
    "    tool_resources={'code_interpreter': {'file_ids': [file.id]}},\n",
    "    model='gpt-4o'\n",
    ")\n",
    "\n",
    "thread = openai.beta.threads.create()\n",
    "\n",
    "texto_mensagem = 'Qual é o raqting médio das vendas do supermercado? O arquivo estáno formato csv.'\n",
    "texto_mensagem = 'Gere um gráfico de pizza com o percentual de vendas por meio de pagamento. O arquivo está no formato csv.'\n",
    "\n",
    "message = openai.beta.threads.messages.create(\n",
    "    thread_id=thread.id,\n",
    "    role='user',\n",
    "    content=texto_mensagem\n",
    ")\n",
    "\n",
    "run = openai.beta.threads.runs.create(\n",
    "    thread_id=thread.id,\n",
    "    assistant_id=assitant.id,\n",
    "    instructions='O nome do usuário é Adriano Soares e ele é um usuário Premium.'\n",
    ")\n",
    "\n",
    "\n",
    "\n"
   ]
  },
  {
   "cell_type": "code",
   "execution_count": 29,
   "metadata": {},
   "outputs": [],
   "source": [
    "import time\n",
    "\n",
    "while run.status in ['queued', 'in_progress', 'cancelling']:\n",
    "    time.sleep(1)\n",
    "    run = openai.beta.threads.runs.retrieve(\n",
    "        thread_id=thread.id,\n",
    "        run_id=run.id\n",
    "    )"
   ]
  },
  {
   "cell_type": "code",
   "execution_count": 30,
   "metadata": {},
   "outputs": [
    {
     "data": {
      "text/plain": [
       "'completed'"
      ]
     },
     "execution_count": 30,
     "metadata": {},
     "output_type": "execute_result"
    }
   ],
   "source": [
    "run.status"
   ]
  },
  {
   "cell_type": "code",
   "execution_count": 31,
   "metadata": {},
   "outputs": [
    {
     "name": "stdout",
     "output_type": "stream",
     "text": [
      "SyncCursorPage[Message](data=[Message(id='msg_B37q8I4ST98Aitr9pug99cLj', assistant_id='asst_yMdQGYdCUFYzgNuwrwywELpf', attachments=[], completed_at=None, content=[ImageFileContentBlock(image_file=ImageFile(file_id='file-BWknXK2U5o8n6U9QtYYzWT', detail=None), type='image_file'), TextContentBlock(text=Text(annotations=[], value='Aqui está o gráfico de pizza que mostra o percentual de vendas por meio de pagamento. Cada segmento representa um meio de pagamento, e o percentual correspondente está indicado no gráfico. Se precisar de mais alguma coisa, é só avisar!'), type='text')], created_at=1737479740, incomplete_at=None, incomplete_details=None, metadata={}, object='thread.message', role='assistant', run_id='run_QK8jgtYmVfhGZbwJitvBRt9p', status=None, thread_id='thread_N6hAVhaIQbo7bXR1UUZcQHmP'), Message(id='msg_vR7scsNtS0DKKEWhJNRd7eam', assistant_id='asst_yMdQGYdCUFYzgNuwrwywELpf', attachments=[], completed_at=None, content=[TextContentBlock(text=Text(annotations=[], value='O arquivo CSV contém uma coluna chamada \"Payment\", que indica o meio de pagamento utilizado. Usaremos essa coluna para calcular o percentual de vendas por meio de pagamento e criar um gráfico de pizza. Vamos prosseguir com isso.'), type='text')], created_at=1737479731, incomplete_at=None, incomplete_details=None, metadata={}, object='thread.message', role='assistant', run_id='run_QK8jgtYmVfhGZbwJitvBRt9p', status=None, thread_id='thread_N6hAVhaIQbo7bXR1UUZcQHmP'), Message(id='msg_NWNnstVPQgNisHmaR1nRxMIc', assistant_id='asst_yMdQGYdCUFYzgNuwrwywELpf', attachments=[], completed_at=None, content=[TextContentBlock(text=Text(annotations=[], value='Primeiro, vou dar uma olhada no conteúdo do arquivo CSV para entender a estrutura dos dados e identificar as colunas relevantes para criar o gráfico de pizza com o percentual de vendas por meio de pagamento. Vamos começar lendo o arquivo.'), type='text')], created_at=1737479725, incomplete_at=None, incomplete_details=None, metadata={}, object='thread.message', role='assistant', run_id='run_QK8jgtYmVfhGZbwJitvBRt9p', status=None, thread_id='thread_N6hAVhaIQbo7bXR1UUZcQHmP'), Message(id='msg_RzOLjtP14DLuXzUn9tvq4c6L', assistant_id=None, attachments=[], completed_at=None, content=[TextContentBlock(text=Text(annotations=[], value='Gere um gráfico de pizza com o percentual de vendas por meio de pagamento. O arquivo está no formato csv.'), type='text')], created_at=1737479722, incomplete_at=None, incomplete_details=None, metadata={}, object='thread.message', role='user', run_id=None, status=None, thread_id='thread_N6hAVhaIQbo7bXR1UUZcQHmP')], object='list', first_id='msg_B37q8I4ST98Aitr9pug99cLj', last_id='msg_RzOLjtP14DLuXzUn9tvq4c6L', has_more=False)\n"
     ]
    }
   ],
   "source": [
    "if run.status == 'completed':\n",
    "    mensagens = openai.beta.threads.messages.list(\n",
    "        thread_id=thread.id\n",
    "    )\n",
    "    print(mensagens)\n",
    "else:\n",
    "    print('Errro', run.status)"
   ]
  },
  {
   "cell_type": "code",
   "execution_count": 32,
   "metadata": {},
   "outputs": [
    {
     "name": "stdout",
     "output_type": "stream",
     "text": [
      "ImageFileContentBlock(image_file=ImageFile(file_id='file-BWknXK2U5o8n6U9QtYYzWT', detail=None), type='image_file')\n"
     ]
    }
   ],
   "source": [
    "print(mensagens.data[0].content[0])"
   ]
  },
  {
   "cell_type": "code",
   "execution_count": 33,
   "metadata": {},
   "outputs": [],
   "source": [
    "run_steps = openai.beta.threads.runs.steps.list(\n",
    "  thread_id=thread.id,\n",
    "  run_id=run.id\n",
    ")"
   ]
  },
  {
   "cell_type": "code",
   "execution_count": 37,
   "metadata": {},
   "outputs": [
    {
     "name": "stdout",
     "output_type": "stream",
     "text": [
      "\n",
      "=== Step: message_creation\n",
      "Primeiro, vou dar uma olhada no conteúdo do arquivo CSV para entender a estrutura dos dados e identificar as colunas relevantes para criar o gráfico de pizza com o percentual de vendas por meio de pagamento. Vamos começar lendo o arquivo.\n",
      "\n",
      "=== Step: tool_calls\n",
      "-----\n",
      "import pandas as pd\n",
      "\n",
      "# Carregar o arquivo CSV\n",
      "file_path = '/mnt/data/file-LqBrKPNCZxqWysFK1SxmXN'\n",
      "data = pd.read_csv(file_path)\n",
      "\n",
      "# Exibir as primeiras linhas do dataframe para entender sua estrutura\n",
      "data.head()\n",
      "-----\n",
      "Result\n",
      "\n",
      "=== Step: message_creation\n",
      "O arquivo CSV contém uma coluna chamada \"Payment\", que indica o meio de pagamento utilizado. Usaremos essa coluna para calcular o percentual de vendas por meio de pagamento e criar um gráfico de pizza. Vamos prosseguir com isso.\n",
      "\n",
      "=== Step: tool_calls\n",
      "-----\n",
      "import matplotlib.pyplot as plt\n",
      "\n",
      "# Calcular o total de vendas por meio de pagamento\n",
      "payment_counts = data['Payment'].value_counts()\n",
      "payment_percentages = payment_counts / payment_counts.sum() * 100\n",
      "\n",
      "# Criar um gráfico de pizza\n",
      "plt.figure(figsize=(8, 8))\n",
      "plt.pie(payment_percentages, labels=payment_percentages.index, autopct='%1.1f%%', startangle=140)\n",
      "plt.title('Percentual de Vendas por Meio de Pagamento')\n",
      "plt.show()\n",
      "-----\n",
      "Result\n",
      "\n",
      "=== Step: message_creation\n",
      "Imagem file-BWknXK2U5o8n6U9QtYYzWT salva\n"
     ]
    },
    {
     "data": {
      "image/png": "[encoded data removed]",
      "text/plain": [
       "<Figure size 640x480 with 1 Axes>"
      ]
     },
     "metadata": {},
     "output_type": "display_data"
    }
   ],
   "source": [
    "for step in run_steps.data[::-1]:\n",
    "    print('\\n=== Step:', step.step_details.type)\n",
    "    \n",
    "    if step.step_details.type == 'tool_calls':\n",
    "        for tool_call in step.step_details.tool_calls:\n",
    "            print('-----')\n",
    "            print(tool_call.code_interpreter.input)\n",
    "            print('-----')\n",
    "            print('Result')\n",
    "    \n",
    "    if step.step_details.type == 'message_creation':\n",
    "        message = openai.beta.threads.messages.retrieve(\n",
    "            thread_id=thread.id,\n",
    "            message_id=step.step_details.message_creation.message_id\n",
    "        )\n",
    "        \n",
    "        if message.content[0].type == 'text':\n",
    "            print(message.content[0].text.value)\n",
    "        \n",
    "        if message.content[0].type == 'image_file':\n",
    "            file_id = message.content[0].image_file.file_id\n",
    "            image_data = openai.files.content(file_id)\n",
    "            \n",
    "            # Save the image to a file\n",
    "            with open(f'{file_id}.png', 'wb') as f:\n",
    "                f.write(image_data.read())\n",
    "                print(f'Imagem {file_id} salva')\n",
    "            \n",
    "            # Use matplotlib to display the image\n",
    "            import matplotlib.pyplot as plt\n",
    "            import matplotlib.image as mpimg\n",
    "            \n",
    "            # Read the image from the saved file\n",
    "            img = mpimg.imread(f'{file_id}.png')\n",
    "            \n",
    "            # Create a figure to display the image\n",
    "            fig, ax = plt.subplots()\n",
    "            ax.set_axis_off()  # Hide axis\n",
    "            ax.imshow(img)  # Show image\n",
    "            plt.show()\n"
   ]
  },
  {
   "cell_type": "code",
   "execution_count": null,
   "metadata": {},
   "outputs": [],
   "source": []
  }
 ],
 "metadata": {
  "kernelspec": {
   "display_name": "finance_venv",
   "language": "python",
   "name": "python3"
  },
  "language_info": {
   "codemirror_mode": {
    "name": "ipython",
    "version": 3
   },
   "file_extension": ".py",
   "mimetype": "text/x-python",
   "name": "python",
   "nbconvert_exporter": "python",
   "pygments_lexer": "ipython3",
   "version": "3.11.9"
  }
 },
 "nbformat": 4,
 "nbformat_minor": 2
}

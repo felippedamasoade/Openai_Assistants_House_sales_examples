{
 "cells": [
  {
   "cell_type": "code",
   "execution_count": 6,
   "metadata": {},
   "outputs": [],
   "source": [
    "import pandas as pd\n",
    "import dotenv\n",
    "from dotenv import load_dotenv\n",
    "import openai\n",
    "import os\n",
    "import json\n",
    "load_dotenv()\n",
    "\n",
    "openai.api_key = os.getenv(\"OPENAI_API_KEY\")"
   ]
  },
  {
   "cell_type": "markdown",
   "metadata": {},
   "source": [
    "## Criando um Assistant ##"
   ]
  },
  {
   "cell_type": "code",
   "execution_count": 8,
   "metadata": {},
   "outputs": [],
   "source": [
    "assistant = openai.beta.assistants.create(\n",
    "    name='Profissional de dados',\n",
    "    instructions='Fornecer e analiser dados e gerar codigos em python e analisar estatisticas',\n",
    "    tools=[{'type':'code_interpreter'}],\n",
    "    model='gpt-3.5-turbo-0125'\n",
    "  \n",
    " )"
   ]
  },
  {
   "cell_type": "markdown",
   "metadata": {},
   "source": [
    "## Criando um Thread ##"
   ]
  },
  {
   "cell_type": "code",
   "execution_count": 11,
   "metadata": {},
   "outputs": [],
   "source": [
    "thread = openai.beta.threads.create()\n",
    "\n",
    "message = openai.beta.threads.messages.create(\n",
    "    thread_id = thread.id,\n",
    "    role = 'user',\n",
    "    content='se eu jogar um dado honesto 1000 vezes qual a probabliade de numeros que vou obter 150 vezes o numero 6'\n",
    "\n",
    ")"
   ]
  },
  {
   "cell_type": "markdown",
   "metadata": {},
   "source": [
    "## Rodando a thread no assistant ##"
   ]
  },
  {
   "cell_type": "code",
   "execution_count": 12,
   "metadata": {},
   "outputs": [],
   "source": [
    "run = openai.beta.threads.runs.create(\n",
    "    thread_id=thread.id,\n",
    "    assistant_id=assistant.id,\n",
    "    instructions='O nome do usuario é Adriano Soares e ele e um usuario Premium'\n",
    ")"
   ]
  },
  {
   "cell_type": "markdown",
   "metadata": {},
   "source": [
    "## Aguardar a thread rodar ##"
   ]
  },
  {
   "cell_type": "code",
   "execution_count": 13,
   "metadata": {},
   "outputs": [],
   "source": [
    "import time\n",
    "\n",
    "while run.status in ['queued', 'in_progress','cancelling']:\n",
    "    time.sleep(1)\n",
    "    run = openai.beta.threads.runs.retrieve(\n",
    "        thread_id=thread.id,\n",
    "        run_id=run.id\n",
    "    )\n"
   ]
  },
  {
   "cell_type": "code",
   "execution_count": 14,
   "metadata": {},
   "outputs": [
    {
     "data": {
      "text/plain": [
       "'completed'"
      ]
     },
     "execution_count": 14,
     "metadata": {},
     "output_type": "execute_result"
    }
   ],
   "source": [
    "run.status\n"
   ]
  },
  {
   "cell_type": "markdown",
   "metadata": {},
   "source": [
    "## Verificar Resposta ##"
   ]
  },
  {
   "cell_type": "code",
   "execution_count": 16,
   "metadata": {},
   "outputs": [
    {
     "name": "stdout",
     "output_type": "stream",
     "text": [
      "SyncCursorPage[Message](data=[Message(id='msg_BkEEnbW9LlT1BvD0Q2r1sJm0', assistant_id='asst_7JGLej03JaZWfeI5OO6T5Ljc', attachments=[], completed_at=None, content=[TextContentBlock(text=Text(annotations=[], value='A probabilidade de obter o número 6 exatamente 150 vezes ao lançar um dado honesto 1000 vezes é aproximadamente 1.26%.'), type='text')], created_at=1737468340, incomplete_at=None, incomplete_details=None, metadata={}, object='thread.message', role='assistant', run_id='run_uTta2HZbFMGVHWAnh7BXSewO', status=None, thread_id='thread_9VF61WHAAA8WLvEGBjf0ACxq'), Message(id='msg_2xsszIKhnH9QZBwEbd5uvvH1', assistant_id='asst_7JGLej03JaZWfeI5OO6T5Ljc', attachments=[], completed_at=None, content=[TextContentBlock(text=Text(annotations=[], value='Para calcular a probabilidade de obter o número 6 exatamente 150 vezes ao lançar um dado honesto 1000 vezes, podemos usar a distribuição binomial. A distribuição binomial é usada para calcular a probabilidade de um evento ocorrer um certo número de vezes em um número fixo de tentativas independentes, onde cada tentativa tem a mesma probabilidade de sucesso.\\n\\nA fórmula da distribuição binomial é dada por:\\n\\n\\\\[ P(X = k) = \\\\binom{n}{k} \\\\times p^k \\\\times (1-p)^{n-k} \\\\]\\n\\nOnde:\\n- \\\\( n = 1000 \\\\) (número de tentativas)\\n- \\\\( k = 150 \\\\) (número de sucessos desejados, ou seja, obter o número 6 exatamente 150 vezes)\\n- \\\\( p = \\\\frac{1}{6} \\\\) (probabilidade de sucesso em uma única tentativa, como estamos falando de um dado honesto)\\n\\nVamos calcular a probabilidade com esses valores.'), type='text')], created_at=1737468335, incomplete_at=None, incomplete_details=None, metadata={}, object='thread.message', role='assistant', run_id='run_uTta2HZbFMGVHWAnh7BXSewO', status=None, thread_id='thread_9VF61WHAAA8WLvEGBjf0ACxq'), Message(id='msg_b8IN0MNov8gzDko7cNe7mgB4', assistant_id=None, attachments=[], completed_at=None, content=[TextContentBlock(text=Text(annotations=[], value='se eu jogar um dado honesto 1000 vezes qual a probabliade de numeros que vou obter 150 vezes o numero 6'), type='text')], created_at=1737468045, incomplete_at=None, incomplete_details=None, metadata={}, object='thread.message', role='user', run_id=None, status=None, thread_id='thread_9VF61WHAAA8WLvEGBjf0ACxq')], object='list', first_id='msg_BkEEnbW9LlT1BvD0Q2r1sJm0', last_id='msg_b8IN0MNov8gzDko7cNe7mgB4', has_more=False)\n"
     ]
    }
   ],
   "source": [
    "if run.status == 'completed':\n",
    "    mensagens = openai.beta.threads.messages.list(\n",
    "        thread_id=thread.id\n",
    "    )\n",
    "    print(mensagens)\n",
    "\n",
    "else:\n",
    "    print('errro', run.status)"
   ]
  },
  {
   "cell_type": "code",
   "execution_count": 17,
   "metadata": {},
   "outputs": [
    {
     "name": "stdout",
     "output_type": "stream",
     "text": [
      "A probabilidade de obter o número 6 exatamente 150 vezes ao lançar um dado honesto 1000 vezes é aproximadamente 1.26%.\n"
     ]
    }
   ],
   "source": [
    "print(mensagens.data[0].content[0].text.value)"
   ]
  },
  {
   "cell_type": "markdown",
   "metadata": {},
   "source": [
    "## Analisando Passo a passo ##"
   ]
  },
  {
   "cell_type": "code",
   "execution_count": 18,
   "metadata": {},
   "outputs": [],
   "source": [
    "run_steps = openai.beta.threads.runs.steps.list(\n",
    "    thread_id=thread.id,\n",
    "    run_id=run.id\n",
    ")"
   ]
  },
  {
   "cell_type": "code",
   "execution_count": 19,
   "metadata": {},
   "outputs": [
    {
     "name": "stdout",
     "output_type": "stream",
     "text": [
      "==== step message_creation\n",
      "==== step tool_calls\n",
      "==== step message_creation\n"
     ]
    }
   ],
   "source": [
    "for step in run_steps.data:\n",
    "    print('==== step', step.step_details.type)"
   ]
  },
  {
   "cell_type": "code",
   "execution_count": 29,
   "metadata": {},
   "outputs": [
    {
     "name": "stdout",
     "output_type": "stream",
     "text": [
      "=== Step: message_creation\n",
      "=== Step: tool_calls\n",
      "-----\n",
      "from math import comb\n",
      "\n",
      "n = 1000\n",
      "k = 150\n",
      "p = 1/6\n",
      "\n",
      "probabilidade = comb(n, k) * (p**k) * ((1-p)**(n-k))\n",
      "probabilidade\n",
      "-----\n",
      "Result\n",
      "No output logs available\n",
      "=== Step: message_creation\n"
     ]
    }
   ],
   "source": [
    "for step in run_steps.data:\n",
    "    print('=== Step:', step.step_details.type)\n",
    "    if step.step_details.type == 'tool_calls':\n",
    "        for tool_call in step.step_details.tool_calls:\n",
    "            print('-----')\n",
    "            print(tool_call.code_interpreter.input)\n",
    "            print('-----')\n",
    "            print('Result')\n",
    "            if tool_call.code_interpreter.outputs:\n",
    "                print(tool_call.code_interpreter.outputs[0].logs)\n",
    "            else:\n",
    "                print('No output logs available')\n",
    "    "
   ]
  },
  {
   "cell_type": "code",
   "execution_count": null,
   "metadata": {},
   "outputs": [],
   "source": [
    "for step in run_steps.data[::-1]:\n",
    "    print('\\n=== Step:', step.step_details.type)\n",
    "    if step.step_details.type == 'tool_calls':\n",
    "        for tool_call in step.step_details.tool_calls:\n",
    "            if tool_call.type == 'file_search':\n",
    "                print(tool_call)\n",
    "            else:\n",
    "                print('-----')\n",
    "                print(tool_call.code_interpreter.input)\n",
    "                print('-----')\n",
    "                print('Result')\n",
    "                print(tool_call.code_interpreter.outputs[0].logs)\n",
    "    if step.step_details.type == 'message_creation':\n",
    "        message = openai.beta.threads.messages.retrieve(\n",
    "            thread_id=thread.id,\n",
    "            message_id=step.step_details.message_creation.message_id\n",
    "        )\n",
    "        print(message.content[0].text.value)"
   ]
  },
  {
   "cell_type": "code",
   "execution_count": null,
   "metadata": {},
   "outputs": [],
   "source": []
  }
 ],
 "metadata": {
  "kernelspec": {
   "display_name": "finance_venv",
   "language": "python",
   "name": "python3"
  },
  "language_info": {
   "codemirror_mode": {
    "name": "ipython",
    "version": 3
   },
   "file_extension": ".py",
   "mimetype": "text/x-python",
   "name": "python",
   "nbconvert_exporter": "python",
   "pygments_lexer": "ipython3",
   "version": "3.11.9"
  }
 },
 "nbformat": 4,
 "nbformat_minor": 2
}
